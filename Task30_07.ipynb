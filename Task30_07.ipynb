{
  "nbformat": 4,
  "nbformat_minor": 0,
  "metadata": {
    "colab": {
      "name": "Task30-07.ipynb",
      "provenance": [],
      "collapsed_sections": []
    },
    "kernelspec": {
      "name": "python3",
      "display_name": "Python 3"
    },
    "language_info": {
      "name": "python"
    }
  },
  "cells": [
    {
      "cell_type": "code",
      "source": [
        "import pandas as pd"
      ],
      "metadata": {
        "id": "T3ntUCy7XJnz"
      },
      "execution_count": 2,
      "outputs": []
    },
    {
      "cell_type": "code",
      "execution_count": 131,
      "metadata": {
        "id": "ukUY60jyWi22"
      },
      "outputs": [],
      "source": [
        "agent_data = pd.read_csv(\"Agent Performance Report.csv\")"
      ]
    },
    {
      "cell_type": "code",
      "source": [
        "agent_data.head()"
      ],
      "metadata": {
        "colab": {
          "base_uri": "https://localhost:8080/",
          "height": 206
        },
        "id": "8R7rmOgvXNi4",
        "outputId": "ed02306f-6953-4690-eca6-dd0913af9585"
      },
      "execution_count": 260,
      "outputs": [
        {
          "output_type": "execute_result",
          "data": {
            "text/plain": [
              "   SL_No       Date     Agent_Name  Total_Chats Average_Response_Time  \\\n",
              "0      1 2022-07-30   Prerna Singh           11              00:00:38   \n",
              "1      2 2022-07-30  Nandani Gupta           11              00:01:15   \n",
              "2      3 2022-07-30     Ameya Jain           14              00:00:30   \n",
              "3      4 2022-07-30  Mahesh Sarade           14              00:01:04   \n",
              "4      5 2022-07-30         Swati            14              00:01:11   \n",
              "\n",
              "  Average_Resolution_Time  Average_Rating  Total_Feedback  day  month  year  \\\n",
              "0                00:04:20            4.11               9   30      7  2022   \n",
              "1                00:28:25            3.14               7   30      7  2022   \n",
              "2                00:11:36            4.55              11   30      7  2022   \n",
              "3                00:15:46            4.71               7   30      7  2022   \n",
              "4                00:16:33            3.67               6   30      7  2022   \n",
              "\n",
              "   week  \n",
              "0    30  \n",
              "1    30  \n",
              "2    30  \n",
              "3    30  \n",
              "4    30  "
            ],
            "text/html": [
              "\n",
              "  <div id=\"df-aa959f19-5b0b-4b48-85d3-2d56b0f637a3\">\n",
              "    <div class=\"colab-df-container\">\n",
              "      <div>\n",
              "<style scoped>\n",
              "    .dataframe tbody tr th:only-of-type {\n",
              "        vertical-align: middle;\n",
              "    }\n",
              "\n",
              "    .dataframe tbody tr th {\n",
              "        vertical-align: top;\n",
              "    }\n",
              "\n",
              "    .dataframe thead th {\n",
              "        text-align: right;\n",
              "    }\n",
              "</style>\n",
              "<table border=\"1\" class=\"dataframe\">\n",
              "  <thead>\n",
              "    <tr style=\"text-align: right;\">\n",
              "      <th></th>\n",
              "      <th>SL_No</th>\n",
              "      <th>Date</th>\n",
              "      <th>Agent_Name</th>\n",
              "      <th>Total_Chats</th>\n",
              "      <th>Average_Response_Time</th>\n",
              "      <th>Average_Resolution_Time</th>\n",
              "      <th>Average_Rating</th>\n",
              "      <th>Total_Feedback</th>\n",
              "      <th>day</th>\n",
              "      <th>month</th>\n",
              "      <th>year</th>\n",
              "      <th>week</th>\n",
              "    </tr>\n",
              "  </thead>\n",
              "  <tbody>\n",
              "    <tr>\n",
              "      <th>0</th>\n",
              "      <td>1</td>\n",
              "      <td>2022-07-30</td>\n",
              "      <td>Prerna Singh</td>\n",
              "      <td>11</td>\n",
              "      <td>00:00:38</td>\n",
              "      <td>00:04:20</td>\n",
              "      <td>4.11</td>\n",
              "      <td>9</td>\n",
              "      <td>30</td>\n",
              "      <td>7</td>\n",
              "      <td>2022</td>\n",
              "      <td>30</td>\n",
              "    </tr>\n",
              "    <tr>\n",
              "      <th>1</th>\n",
              "      <td>2</td>\n",
              "      <td>2022-07-30</td>\n",
              "      <td>Nandani Gupta</td>\n",
              "      <td>11</td>\n",
              "      <td>00:01:15</td>\n",
              "      <td>00:28:25</td>\n",
              "      <td>3.14</td>\n",
              "      <td>7</td>\n",
              "      <td>30</td>\n",
              "      <td>7</td>\n",
              "      <td>2022</td>\n",
              "      <td>30</td>\n",
              "    </tr>\n",
              "    <tr>\n",
              "      <th>2</th>\n",
              "      <td>3</td>\n",
              "      <td>2022-07-30</td>\n",
              "      <td>Ameya Jain</td>\n",
              "      <td>14</td>\n",
              "      <td>00:00:30</td>\n",
              "      <td>00:11:36</td>\n",
              "      <td>4.55</td>\n",
              "      <td>11</td>\n",
              "      <td>30</td>\n",
              "      <td>7</td>\n",
              "      <td>2022</td>\n",
              "      <td>30</td>\n",
              "    </tr>\n",
              "    <tr>\n",
              "      <th>3</th>\n",
              "      <td>4</td>\n",
              "      <td>2022-07-30</td>\n",
              "      <td>Mahesh Sarade</td>\n",
              "      <td>14</td>\n",
              "      <td>00:01:04</td>\n",
              "      <td>00:15:46</td>\n",
              "      <td>4.71</td>\n",
              "      <td>7</td>\n",
              "      <td>30</td>\n",
              "      <td>7</td>\n",
              "      <td>2022</td>\n",
              "      <td>30</td>\n",
              "    </tr>\n",
              "    <tr>\n",
              "      <th>4</th>\n",
              "      <td>5</td>\n",
              "      <td>2022-07-30</td>\n",
              "      <td>Swati</td>\n",
              "      <td>14</td>\n",
              "      <td>00:01:11</td>\n",
              "      <td>00:16:33</td>\n",
              "      <td>3.67</td>\n",
              "      <td>6</td>\n",
              "      <td>30</td>\n",
              "      <td>7</td>\n",
              "      <td>2022</td>\n",
              "      <td>30</td>\n",
              "    </tr>\n",
              "  </tbody>\n",
              "</table>\n",
              "</div>\n",
              "      <button class=\"colab-df-convert\" onclick=\"convertToInteractive('df-aa959f19-5b0b-4b48-85d3-2d56b0f637a3')\"\n",
              "              title=\"Convert this dataframe to an interactive table.\"\n",
              "              style=\"display:none;\">\n",
              "        \n",
              "  <svg xmlns=\"http://www.w3.org/2000/svg\" height=\"24px\"viewBox=\"0 0 24 24\"\n",
              "       width=\"24px\">\n",
              "    <path d=\"M0 0h24v24H0V0z\" fill=\"none\"/>\n",
              "    <path d=\"M18.56 5.44l.94 2.06.94-2.06 2.06-.94-2.06-.94-.94-2.06-.94 2.06-2.06.94zm-11 1L8.5 8.5l.94-2.06 2.06-.94-2.06-.94L8.5 2.5l-.94 2.06-2.06.94zm10 10l.94 2.06.94-2.06 2.06-.94-2.06-.94-.94-2.06-.94 2.06-2.06.94z\"/><path d=\"M17.41 7.96l-1.37-1.37c-.4-.4-.92-.59-1.43-.59-.52 0-1.04.2-1.43.59L10.3 9.45l-7.72 7.72c-.78.78-.78 2.05 0 2.83L4 21.41c.39.39.9.59 1.41.59.51 0 1.02-.2 1.41-.59l7.78-7.78 2.81-2.81c.8-.78.8-2.07 0-2.86zM5.41 20L4 18.59l7.72-7.72 1.47 1.35L5.41 20z\"/>\n",
              "  </svg>\n",
              "      </button>\n",
              "      \n",
              "  <style>\n",
              "    .colab-df-container {\n",
              "      display:flex;\n",
              "      flex-wrap:wrap;\n",
              "      gap: 12px;\n",
              "    }\n",
              "\n",
              "    .colab-df-convert {\n",
              "      background-color: #E8F0FE;\n",
              "      border: none;\n",
              "      border-radius: 50%;\n",
              "      cursor: pointer;\n",
              "      display: none;\n",
              "      fill: #1967D2;\n",
              "      height: 32px;\n",
              "      padding: 0 0 0 0;\n",
              "      width: 32px;\n",
              "    }\n",
              "\n",
              "    .colab-df-convert:hover {\n",
              "      background-color: #E2EBFA;\n",
              "      box-shadow: 0px 1px 2px rgba(60, 64, 67, 0.3), 0px 1px 3px 1px rgba(60, 64, 67, 0.15);\n",
              "      fill: #174EA6;\n",
              "    }\n",
              "\n",
              "    [theme=dark] .colab-df-convert {\n",
              "      background-color: #3B4455;\n",
              "      fill: #D2E3FC;\n",
              "    }\n",
              "\n",
              "    [theme=dark] .colab-df-convert:hover {\n",
              "      background-color: #434B5C;\n",
              "      box-shadow: 0px 1px 3px 1px rgba(0, 0, 0, 0.15);\n",
              "      filter: drop-shadow(0px 1px 2px rgba(0, 0, 0, 0.3));\n",
              "      fill: #FFFFFF;\n",
              "    }\n",
              "  </style>\n",
              "\n",
              "      <script>\n",
              "        const buttonEl =\n",
              "          document.querySelector('#df-aa959f19-5b0b-4b48-85d3-2d56b0f637a3 button.colab-df-convert');\n",
              "        buttonEl.style.display =\n",
              "          google.colab.kernel.accessAllowed ? 'block' : 'none';\n",
              "\n",
              "        async function convertToInteractive(key) {\n",
              "          const element = document.querySelector('#df-aa959f19-5b0b-4b48-85d3-2d56b0f637a3');\n",
              "          const dataTable =\n",
              "            await google.colab.kernel.invokeFunction('convertToInteractive',\n",
              "                                                     [key], {});\n",
              "          if (!dataTable) return;\n",
              "\n",
              "          const docLinkHtml = 'Like what you see? Visit the ' +\n",
              "            '<a target=\"_blank\" href=https://colab.research.google.com/notebooks/data_table.ipynb>data table notebook</a>'\n",
              "            + ' to learn more about interactive tables.';\n",
              "          element.innerHTML = '';\n",
              "          dataTable['output_type'] = 'display_data';\n",
              "          await google.colab.output.renderOutput(dataTable, element);\n",
              "          const docLink = document.createElement('div');\n",
              "          docLink.innerHTML = docLinkHtml;\n",
              "          element.appendChild(docLink);\n",
              "        }\n",
              "      </script>\n",
              "    </div>\n",
              "  </div>\n",
              "  "
            ]
          },
          "metadata": {},
          "execution_count": 260
        }
      ]
    },
    {
      "cell_type": "code",
      "source": [
        "agent_data[\"Date\"]"
      ],
      "metadata": {
        "id": "86NiZAJ9XPNq"
      },
      "execution_count": null,
      "outputs": []
    },
    {
      "cell_type": "code",
      "source": [
        "agent_data[\"Date\"] = agent_data[\"Date\"].astype('datetime64[ns]')"
      ],
      "metadata": {
        "id": "DRMgMZPJXo1S"
      },
      "execution_count": 134,
      "outputs": []
    },
    {
      "cell_type": "code",
      "source": [
        "agent_data.dtypes"
      ],
      "metadata": {
        "id": "djVe6ZTRY3GA"
      },
      "execution_count": null,
      "outputs": []
    },
    {
      "cell_type": "code",
      "source": [
        "agent_data[\"day\"] = agent_data['Date'].apply (lambda r :r.day)\n",
        "agent_data[\"month\"] = agent_data['Date'].apply (lambda r :r.month)\n",
        "agent_data[\"year\"] = agent_data['Date'].apply (lambda r :r.year)\n",
        "agent_data[\"week\"] = agent_data['Date'].apply (lambda r :r.week)"
      ],
      "metadata": {
        "id": "thsXM5DUaFZc"
      },
      "execution_count": 136,
      "outputs": []
    },
    {
      "cell_type": "code",
      "source": [
        "agent_data"
      ],
      "metadata": {
        "id": "F8oFVEvjLWUp"
      },
      "execution_count": null,
      "outputs": []
    },
    {
      "cell_type": "markdown",
      "source": [
        " Answers (Could not perform for all users.)"
      ],
      "metadata": {
        "id": "rVXBKIb3wZ4O"
      }
    },
    {
      "cell_type": "code",
      "source": [
        "#1 .Find out there avarage rating on weekly basis keep this in a mind that they take two days of leave\n",
        "\n",
        "agent_week_rating = agent_data[(agent_data[\"Average_Rating\"] != 0) & \n",
        "                               (agent_data[\"Agent_Name\"] == \"Prerna Singh\")][[\"Agent_Name\",\"Average_Rating\",\"week\"]].groupby(\"week\")\n",
        "agent_week_rating"
      ],
      "metadata": {
        "colab": {
          "base_uri": "https://localhost:8080/"
        },
        "id": "WO7g9VzSFgVL",
        "outputId": "beac5aea-0df6-4162-ad5b-4ba50557beac"
      },
      "execution_count": 319,
      "outputs": [
        {
          "output_type": "execute_result",
          "data": {
            "text/plain": [
              "<pandas.core.groupby.generic.DataFrameGroupBy object at 0x7ff24c298bd0>"
            ]
          },
          "metadata": {},
          "execution_count": 319
        }
      ]
    },
    {
      "cell_type": "code",
      "source": [
        "#2 .Total working days for each agents\n",
        "agent_individual = agent_data[agent_data[\"Agent_Name\"] == \"Prerna Singh\"]\n",
        "agent_working = agent_individual[agent_individual[\"Total_Chats\"] != 0][[\"day\"]]\n",
        "len(agent_working[\"day\"])\n",
        "\n",
        "#There seems to be some error in data entry but it does not affect the count "
      ],
      "metadata": {
        "id": "Px9W5lg00snT"
      },
      "execution_count": null,
      "outputs": []
    },
    {
      "cell_type": "code",
      "source": [
        "#3. Total query that you have taken\n",
        "agent_data[\"Total_Chats\"].sum()\n"
      ],
      "metadata": {
        "id": "n5Ud5U5by0yw"
      },
      "execution_count": null,
      "outputs": []
    },
    {
      "cell_type": "code",
      "source": [
        "#4. total Feedback that you have received \n",
        "agent_data[\"Total_Feedback\"].sum()"
      ],
      "metadata": {
        "id": "JCmfYRo30W-K"
      },
      "execution_count": null,
      "outputs": []
    },
    {
      "cell_type": "code",
      "source": [
        "#5 agent name who have average rating between 3.5 to 4 \n",
        "agent_data[(agent_data[\"Average_Rating\"] >3.5) & (agent_data[\"Average_Rating\"]<4)][[\"Average_Rating\",\"Agent_Name\"]]"
      ],
      "metadata": {
        "id": "bsIeTlZ9wQdA"
      },
      "execution_count": null,
      "outputs": []
    },
    {
      "cell_type": "code",
      "source": [
        "#6 . Agent name who have rating lesss then 3.5 \n",
        "agent_data[agent_data[\"Average_Rating\"]<3.5][[\"Average_Rating\",\"Agent_Name\"]]\n"
      ],
      "metadata": {
        "id": "bBJoj0ojw61a"
      },
      "execution_count": null,
      "outputs": []
    },
    {
      "cell_type": "code",
      "source": [
        "#7 . agent name who have rating more then 4.5 \n",
        "top_agents = agent_data[agent_data[\"Average_Rating\"]>4.5][[\"Average_Rating\",\"Agent_Name\"]]\n",
        "top_agents"
      ],
      "metadata": {
        "id": "W62IvLF2x1mk"
      },
      "execution_count": null,
      "outputs": []
    },
    {
      "cell_type": "code",
      "source": [
        "#8 . how many feedaback agents have received more then 4.5 average\n",
        "len(top_agents[\"Agent_Name\"])"
      ],
      "metadata": {
        "id": "KyZj4uFHyaHP"
      },
      "execution_count": null,
      "outputs": []
    },
    {
      "cell_type": "code",
      "source": [
        "#11 list of all agents name\n",
        "agent_data[\"Agent_Name\"].unique()"
      ],
      "metadata": {
        "id": "d6qCw03tqXeR"
      },
      "execution_count": null,
      "outputs": []
    },
    {
      "cell_type": "code",
      "source": [
        "#12 . percentage of chat on which they have received a feedback\n",
        "agent_feedback = agent_data[agent_data[\"Total_Chats\"] != 0][[\"Agent_Name\",\"Total_Chats\",\"Total_Feedback\"]]\n",
        "agent_feedback[\"feedback_ratio\"] = agent_feedback[\"Total_Feedback\"]/agent_feedback[\"Total_Chats\"]\n",
        "agent_feedback"
      ],
      "metadata": {
        "id": "V5IhNxVm3mFr"
      },
      "execution_count": null,
      "outputs": []
    },
    {
      "cell_type": "markdown",
      "source": [
        "Unable to do"
      ],
      "metadata": {
        "id": "MI-ND6XAFQuZ"
      }
    },
    {
      "cell_type": "code",
      "source": [
        "#9 . average weekly response time for each agent \n",
        "agent_response = agent_data[(agent_data[\"Total_Chats\"] != 0)][[\"Agent_Name\",\"Average_Response_Time\",\"week\"]]\n",
        "agent_response = agent_response[agent_response[\"Agent_Name\"] == \"Prerna Singh\"]\n",
        "agent_response = agent_response[\"Average_Response_Time\"]"
      ],
      "metadata": {
        "id": "MbQZp6D_FNvV"
      },
      "execution_count": 305,
      "outputs": []
    },
    {
      "cell_type": "code",
      "source": [
        "\"\"\"\n",
        "10 . average weekely resolution time for each agents \n",
        "13 . Total contributation hour for each and every agents weekly basis \n",
        "14. total percentage of active hour for a month \n",
        "\"\"\""
      ],
      "metadata": {
        "id": "cG1XpXKYKw9F"
      },
      "execution_count": null,
      "outputs": []
    }
  ]
}