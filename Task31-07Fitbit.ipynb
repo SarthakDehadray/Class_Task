{
  "nbformat": 4,
  "nbformat_minor": 0,
  "metadata": {
    "colab": {
      "name": "Untitled40.ipynb",
      "provenance": [],
      "collapsed_sections": []
    },
    "kernelspec": {
      "name": "python3",
      "display_name": "Python 3"
    },
    "language_info": {
      "name": "python"
    }
  },
  "cells": [
    {
      "cell_type": "code",
      "execution_count": null,
      "metadata": {
        "id": "k5LS_gxcnyGg"
      },
      "outputs": [],
      "source": [
        "import pandas as pd"
      ]
    },
    {
      "cell_type": "code",
      "source": [
        "# 1) Load the dataset in pandas\n",
        "\n",
        "dataset = pd.read_csv(\"FitBit data.csv\")\n",
        "dataset"
      ],
      "metadata": {
        "id": "Zowu6h1j9xF9"
      },
      "execution_count": null,
      "outputs": []
    },
    {
      "cell_type": "code",
      "source": [
        "#3) convert all the dates available in data set to time format  and in sql \n",
        "#convert it in date format\n",
        "\n",
        "dataset[\"ActivityDate\"] = dataset[\"ActivityDate\"].astype(\"datetime64[ns]\")\n",
        "dataset[\"day\"] = dataset['ActivityDate'].apply(lambda r :r.day)\n",
        "dataset[\"month\"] = dataset['ActivityDate'].apply(lambda r :r.month)\n",
        "dataset[\"year\"] = dataset['ActivityDate'].apply(lambda r :r.year)\n",
        "dataset[\"week\"] = dataset['ActivityDate'].apply(lambda r :r.week)"
      ],
      "metadata": {
        "id": "35EvmvXi98Of"
      },
      "execution_count": null,
      "outputs": []
    },
    {
      "cell_type": "code",
      "source": [
        "#4) Find out unique ids\n",
        "pd.DataFrame(dataset[\"Id\"].unique())"
      ],
      "metadata": {
        "id": "EBwUprwTBMqT"
      },
      "execution_count": null,
      "outputs": []
    },
    {
      "cell_type": "code",
      "source": [
        "# 5) Which id is one of the active id.\n",
        "o = dataset[[\"TotalDistance\",\"Id\"]].groupby(\"Id\").sum().reset_index()\n",
        "p = o.sort_values(by = \"TotalDistance\",ascending = False,ignore_index = True)\n",
        "p[\"Id\"][0]"
      ],
      "metadata": {
        "id": "YZVZOGryBEko"
      },
      "execution_count": null,
      "outputs": []
    },
    {
      "cell_type": "code",
      "source": [
        "# 6) how many of them have not logged there activity find number of ids.\n",
        "no_log = dataset[dataset[\"LoggedActivitiesDistance\"] == 0][\"Id\"].unique()\n",
        "len(no_log)"
      ],
      "metadata": {
        "id": "2Vv4bdkOG6PH"
      },
      "execution_count": null,
      "outputs": []
    },
    {
      "cell_type": "code",
      "source": [
        "# 7) find the laziest person/id.\n",
        "n = dataset[[\"TotalDistance\",\"Id\"]].groupby(\"Id\").sum().reset_index()\n",
        "p1 = o.sort_values(by = \"TotalDistance\",ascending = True,ignore_index = True)\n",
        "p1[\"Id\"][0]\n"
      ],
      "metadata": {
        "id": "8tNpytdsJYdb"
      },
      "execution_count": null,
      "outputs": []
    },
    {
      "cell_type": "code",
      "source": [
        "# 8) explore over internet how much calories burn is required for a healthy\n",
        "#person and on that basis find number of healthy people.\n",
        "\n",
        "# Calories to be burnt daily by male 2500 female 2000 as gender is not provided in the dataset we will use 2250 as threshold and we divide the data in3 segments \n",
        "# >2250 calories Healthy\n",
        "#1500 < a < 2250 Work Hard \n",
        "#<1500 Unhealthy\n",
        "\n",
        "def expected_burn(a):\n",
        "  if a > 2250:\n",
        "    return \"Healthy\"\n",
        "  elif 1500 < a < 2250:\n",
        "    return \"Work Hard\"\n",
        "  else:\n",
        "    return \"Unhealthy\"\n",
        "\n",
        "dataset[\"Person_Routine\"] = dataset[\"Calories\"].apply(expected_burn)\n",
        "dataset"
      ],
      "metadata": {
        "id": "oy_1XVJfLbua"
      },
      "execution_count": null,
      "outputs": []
    },
    {
      "cell_type": "code",
      "source": [
        "# 9) find irregular person wrt activity.\n",
        "import logging as lg \n",
        "lg.basicConfig(filename = \"fitbit_logging.txt\",level=lg.DEBUG,format='%(asctime)s %(message)s')\n",
        "m = dataset[[\"ActivityDate\",\"Id\"]].groupby(\"Id\").count().reset_index()\n",
        "def lazy(a):\n",
        "  for i in m[\"ActivityDate\"]:\n",
        "    if a <= 10:\n",
        "      return\"Inactive\"\n",
        "    elif 10 < a <= 20:\n",
        "      return\"Active\"\n",
        "    elif a > 20:\n",
        "      return\"Very Active\"\n",
        "\n",
        "m[\"Days\"] = m[\"ActivityDate\"].apply(lazy)\n",
        "m"
      ],
      "metadata": {
        "id": "5Uan88NrMGql"
      },
      "execution_count": null,
      "outputs": []
    },
    {
      "cell_type": "code",
      "source": [
        "# 10) who is the third most active person in this dataset find in pandas and sql.\n",
        "o = dataset[[\"TotalDistance\",\"Id\"]].groupby(\"Id\").sum().reset_index()\n",
        "p = o.sort_values(by = \"TotalDistance\",ascending = False,ignore_index = True)\n",
        "p[\"TotalDistance\"][2]"
      ],
      "metadata": {
        "id": "AAG0ASnM8rSl"
      },
      "execution_count": null,
      "outputs": []
    },
    {
      "cell_type": "code",
      "source": [
        "# 11) find out 5th most laziest person in dataset\n",
        "n = dataset[[\"TotalDistance\",\"Id\"]].groupby(\"Id\").sum().reset_index()\n",
        "p1 = o.sort_values(by = \"TotalDistance\",ascending = True,ignore_index = True)\n",
        "p1[\"Id\"][4]"
      ],
      "metadata": {
        "id": "UMCob-VcaPdb"
      },
      "execution_count": null,
      "outputs": []
    },
    {
      "cell_type": "code",
      "source": [
        "# 12) what is total cummulative calories burn for a person to find out.\n",
        "cal_burn = dataset[[\"Calories\",\"Id\"]].groupby(\"Id\").sum().reset_index()\n",
        "cal_burn"
      ],
      "metadata": {
        "id": "ft2oBEc7coQt"
      },
      "execution_count": null,
      "outputs": []
    },
    {
      "cell_type": "code",
      "source": [
        "\n"
      ],
      "metadata": {
        "id": "z3wpld9OcwYu"
      },
      "execution_count": null,
      "outputs": []
    },
    {
      "cell_type": "code",
      "source": [
        ""
      ],
      "metadata": {
        "id": "2hKJVUS8dCON"
      },
      "execution_count": null,
      "outputs": []
    }
  ]
}