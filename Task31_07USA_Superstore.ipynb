{
  "cells": [
    {
      "cell_type": "code",
      "execution_count": null,
      "metadata": {
        "id": "_wnnChBc_vpn"
      },
      "outputs": [],
      "source": [
        "import pandas as pd"
      ]
    },
    {
      "cell_type": "code",
      "execution_count": null,
      "metadata": {
        "id": "raVkNcaVAK7N"
      },
      "outputs": [],
      "source": [
        "# 1) load this data in sql ,pandas with a relation in sql.\n",
        "#Order sheet\n",
        "dataset1 = pd.read_excel(\"Superstore_USA.xlsx\",sheet_name= 0)\n",
        "dataset1.head()"
      ]
    },
    {
      "cell_type": "code",
      "execution_count": null,
      "metadata": {
        "id": "I7e6z7FGAjxo"
      },
      "outputs": [],
      "source": [
        "#Returns sheet\n",
        "dataset2 = pd.read_excel(\"Superstore_USA.xlsx\",sheet_name= 1)\n",
        "dataset2.head()"
      ]
    },
    {
      "cell_type": "code",
      "execution_count": null,
      "metadata": {
        "id": "w-1dvFEZGI0S"
      },
      "outputs": [],
      "source": [
        "#Managers sheet\n",
        "dataset3 = pd.read_excel(\"Superstore_USA.xlsx\",sheet_name= 2)\n",
        "dataset3.head()"
      ]
    },
    {
      "cell_type": "code",
      "execution_count": null,
      "metadata": {
        "id": "p_9RKGGZGlNh"
      },
      "outputs": [],
      "source": [
        "# 3) Find out how many return that we have received with product id \n",
        "k = pd.DataFrame(dataset1[[\"Order ID\",\"Product Name\"]])\n",
        "l = pd.DataFrame(dataset2[\"Order ID\"])\n",
        "pd.merge(k,l, how = \"inner\")\n",
        "\n",
        "#it won't be possible to find product name for all the \"Order ID\" in dataset2/ returns sheet because they are not included in dataset1 and hence the corresponding information\n",
        "#is not available. However, on performing the ineer join (as done above) we get 98 \"Order ID\" to be common in dataset1 and dataset2.\n"
      ]
    },
    {
      "cell_type": "code",
      "execution_count": null,
      "metadata": {
        "id": "gegRDpOxcOdQ"
      },
      "outputs": [],
      "source": [
        "# 4) try to join order and return data.\n",
        "\n",
        "k = pd.DataFrame(dataset1[[\"Order ID\",\"Product Name\"]])\n",
        "l = pd.DataFrame(dataset2[[\"Order ID\",\"Status\"]])\n",
        "pd.merge(k,l)"
      ]
    },
    {
      "cell_type": "code",
      "execution_count": null,
      "metadata": {
        "id": "Wrs2DcfcA0B6"
      },
      "outputs": [],
      "source": [
        "# 5) try to find number of unique customers.\n",
        "\n",
        "pd.DataFrame(dataset1[\"Customer Name\"].unique())"
      ]
    },
    {
      "cell_type": "code",
      "execution_count": null,
      "metadata": {
        "id": "EH8sTn7aCJx5"
      },
      "outputs": [],
      "source": [
        "#6) try to find region in which product is available and who is the manager.\n",
        "prod_unique = pd.DataFrame(dataset1[\"Product Name\"].unique())\n",
        "k = pd.DataFrame(dataset1[[\"Region\",\"Product Name\"]])\n",
        "l = pd.DataFrame(dataset3[[\"Region\",\"Manager\"]])\n",
        "managers = pd.merge(k,l,on = \"Region\")\n",
        "managers"
      ]
    },
    {
      "cell_type": "code",
      "execution_count": null,
      "metadata": {
        "id": "Ksk08UHYFI6Z"
      },
      "outputs": [],
      "source": [
        "# 7) find out different shipment mode and the respective percentages.\n",
        "k = pd.DataFrame(dataset1[\"Ship Mode\"])\n",
        "Reg_Air = (len(k[k[\"Ship Mode\"] == \"Regular Air\"])/len(k))*100\n",
        "Express_Air = (len(k[k[\"Ship Mode\"] == \"Express Air\"])/len(k))*100\n",
        "Delivery_Truck = (len(k[k[\"Ship Mode\"] == \"Delivery Truck\"])/len(k))*100\n",
        "print(\"Mode :Regular Air Percentage =\",Reg_Air,\"\\n\",\"Mode :Express Air Percentage =\",Express_Air,\"\\n\",\"Mode :Delivery Truck Percentage =\",Delivery_Truck)"
      ]
    },
    {
      "cell_type": "code",
      "execution_count": null,
      "metadata": {
        "id": "etPWwZjuH9h1"
      },
      "outputs": [],
      "source": [
        "# 8) Create a new column and try to find out difference between order date and shipment date\n",
        "dataset1[\"Delivery_Time(Days)\"] = dataset1[\"Ship Date\"] - dataset1[\"Order Date\"]"
      ]
    },
    {
      "cell_type": "code",
      "execution_count": null,
      "metadata": {
        "id": "wpIphbj5Kx5u"
      },
      "outputs": [],
      "source": [
        "# 9) for que 8 find out where duration is more than 10 days.\n",
        "\n",
        "#Converting timedelta format to str/object\n",
        "dataset1[\"Delivery_Time(Days)\"] = dataset1[\"Delivery_Time(Days)\"].astype(str)\n",
        "\n",
        "#Strip \"days\" from \"Delivery_Time(Days)\" column\n",
        "dataset1[\"Delivery_Time(Days)\"] = dataset1[\"Delivery_Time(Days)\"].str.replace(\"days\",\"\")\n",
        "\n",
        "#Converting to int format to perform operations\n",
        "dataset1[\"Delivery_Time(Days)\"] = dataset1[\"Delivery_Time(Days)\"].astype(int)\n",
        "\n",
        "dataset1[dataset1[\"Delivery_Time(Days)\"] > 10]"
      ]
    },
    {
      "cell_type": "code",
      "source": [
        "# 10) find returned shipments for which number of days >15\n",
        "\n",
        "#inner join to find common orders\n",
        "return_orders = pd.merge(dataset1,dataset2,how = \"inner\")\n",
        "\n",
        "#finding number of days\n",
        "return_orders[\"Delivery_Time(Days)\"] = dataset1[\"Ship Date\"] - dataset1[\"Order Date\"]\n",
        "\n",
        "#converting column to str/object type\n",
        "return_orders[\"Delivery_Time(Days)\"] = return_orders[\"Delivery_Time(Days)\"].astype(str)\n",
        "\n",
        "#removing the substring \"day\"\n",
        "return_orders[\"Delivery_Time(Days)\"] = return_orders[\"Delivery_Time(Days)\"].str.replace(\"days\",\"\")\n",
        "\n",
        "#Converting to int to perform operations\n",
        "return_orders[\"Delivery_Time(Days)\"] = return_orders[\"Delivery_Time(Days)\"].astype(int)\n",
        "\n",
        "return_orders[return_orders[\"Delivery_Time(Days)\"] > 15 ]"
      ],
      "metadata": {
        "id": "SKBYZpjoHF6C"
      },
      "execution_count": null,
      "outputs": []
    },
    {
      "cell_type": "code",
      "execution_count": null,
      "metadata": {
        "id": "2rsKBAqAOt3a"
      },
      "outputs": [],
      "source": [
        "# 11) group by region and find out the most profitable region.\n",
        "max_profit_region = dataset1[[\"Region\",\"Profit\"]].groupby(\"Region\").sum().reset_index()\n",
        "max_profit_region[max_profit_region[\"Profit\"] == max(max_profit_region[\"Profit\"])]\n"
      ]
    },
    {
      "cell_type": "code",
      "source": [
        "# 12)  try to find overall in which country/region more discount is offered.\n",
        "max_disc_region = dataset1[[\"Region\",\"Discount\"]].groupby(\"Region\").sum().reset_index()\n",
        "max_disc_region[max_disc_region[\"Discount\"] == max(max_disc_region[\"Discount\"])]\n"
      ],
      "metadata": {
        "id": "wWO3GgX5J3nz"
      },
      "execution_count": null,
      "outputs": []
    },
    {
      "cell_type": "code",
      "source": [
        "# 13)  list of unique postal codes\n",
        "pd.DataFrame(dataset1[\"Postal Code\"].unique())"
      ],
      "metadata": {
        "id": "ZXEfHQj0L1FB"
      },
      "execution_count": null,
      "outputs": []
    },
    {
      "cell_type": "code",
      "source": [
        "# 14) which customer segment is more profitable.\n",
        "\n",
        "max_profit_segment = dataset1[[\"Customer Segment\",\"Profit\"]].groupby(\"Customer Segment\").sum().reset_index()\n",
        "max_profit_segment[max_profit_segment[\"Profit\"] == max(max_profit_segment[\"Profit\"])]"
      ],
      "metadata": {
        "id": "_WSSmfh2L-kb"
      },
      "execution_count": null,
      "outputs": []
    },
    {
      "cell_type": "code",
      "source": [
        "# 15) find 10th most loss making product category.\n",
        "\n",
        "q = dataset1[[\"Product Category\",\"Profit\"]]\n",
        "loss = q[q[\"Profit\"] < 0].groupby(\"Product Category\").sum().reset_index()\n",
        "loss[loss[\"Profit\"] == max(loss[\"Profit\"])]\n",
        "#There are only 3 Product Categories so question is not valid"
      ],
      "metadata": {
        "id": "ph1BrUn0RIKK"
      },
      "execution_count": null,
      "outputs": []
    },
    {
      "cell_type": "code",
      "source": [
        "# 16) Find out the product with highest margins.\n",
        "a = dataset1[[\"Product Base Margin\",\"Product Name\"]]\n",
        "b = pd.DataFrame(a[a[\"Product Base Margin\"] == max(a[\"Product Base Margin\"])])\n",
        "b\n"
      ],
      "metadata": {
        "id": "Z8oKy64YRI-7",
        "colab": {
          "base_uri": "https://localhost:8080/",
          "height": 1000
        },
        "outputId": "1e28941c-db34-44ac-8568-df72770cdb65"
      },
      "execution_count": 53,
      "outputs": [
        {
          "output_type": "execute_result",
          "data": {
            "text/plain": [
              "      Product Base Margin                                       Product Name\n",
              "230                  0.85                   Belkin OmniView SE Rackmount Kit\n",
              "253                  0.85                                        Accessory27\n",
              "262                  0.85                                        Accessory27\n",
              "686                  0.85  Office Impressions Heavy Duty Welded Shelving ...\n",
              "742                  0.85                                        Accessory27\n",
              "807                  0.85                                        Accessory27\n",
              "816                  0.85                                        Accessory27\n",
              "881                  0.85                  Sterling Rubber Bands by Alliance\n",
              "963                  0.85                                         Accessory4\n",
              "976                  0.85                                         Accessory4\n",
              "1567                 0.85                                        Accessory27\n",
              "1718                 0.85                                         Accessory4\n",
              "1723                 0.85                  Sterling Rubber Bands by Alliance\n",
              "1887                 0.85  Office Impressions Heavy Duty Welded Shelving ...\n",
              "1918                 0.85  Office Impressions Heavy Duty Welded Shelving ...\n",
              "2116                 0.85                                        Accessory27\n",
              "2138                 0.85                  Sterling Rubber Bands by Alliance\n",
              "3174                 0.85                  Sterling Rubber Bands by Alliance\n",
              "3428                 0.85                   Belkin OmniView SE Rackmount Kit\n",
              "3963                 0.85  Office Impressions Heavy Duty Welded Shelving ...\n",
              "3994                 0.85  Office Impressions Heavy Duty Welded Shelving ...\n",
              "4015                 0.85                                         Accessory4\n",
              "4168                 0.85                  Sterling Rubber Bands by Alliance\n",
              "4632                 0.85                                         Accessory4\n",
              "4756                 0.85                                         Accessory4\n",
              "5149                 0.85                                         Accessory4\n",
              "5180                 0.85                                         Accessory4\n",
              "5672                 0.85                                         Accessory4\n",
              "5860                 0.85  Office Impressions Heavy Duty Welded Shelving ...\n",
              "7112                 0.85                                         Accessory4\n",
              "7176                 0.85  Office Impressions Heavy Duty Welded Shelving ...\n",
              "7202                 0.85  Office Impressions Heavy Duty Welded Shelving ...\n",
              "7607                 0.85                                        Accessory27\n",
              "7869                 0.85                                         Accessory4\n",
              "7958                 0.85  Office Impressions Heavy Duty Welded Shelving ...\n",
              "8077                 0.85                                         Accessory4\n",
              "8725                 0.85                                         Accessory4\n",
              "8950                 0.85                   Belkin OmniView SE Rackmount Kit\n",
              "9145                 0.85                                        Accessory27\n",
              "9377                 0.85  Office Impressions Heavy Duty Welded Shelving ..."
            ],
            "text/html": [
              "\n",
              "  <div id=\"df-2de3d83c-3097-4af9-a1c0-06770e22ae7c\">\n",
              "    <div class=\"colab-df-container\">\n",
              "      <div>\n",
              "<style scoped>\n",
              "    .dataframe tbody tr th:only-of-type {\n",
              "        vertical-align: middle;\n",
              "    }\n",
              "\n",
              "    .dataframe tbody tr th {\n",
              "        vertical-align: top;\n",
              "    }\n",
              "\n",
              "    .dataframe thead th {\n",
              "        text-align: right;\n",
              "    }\n",
              "</style>\n",
              "<table border=\"1\" class=\"dataframe\">\n",
              "  <thead>\n",
              "    <tr style=\"text-align: right;\">\n",
              "      <th></th>\n",
              "      <th>Product Base Margin</th>\n",
              "      <th>Product Name</th>\n",
              "    </tr>\n",
              "  </thead>\n",
              "  <tbody>\n",
              "    <tr>\n",
              "      <th>230</th>\n",
              "      <td>0.85</td>\n",
              "      <td>Belkin OmniView SE Rackmount Kit</td>\n",
              "    </tr>\n",
              "    <tr>\n",
              "      <th>253</th>\n",
              "      <td>0.85</td>\n",
              "      <td>Accessory27</td>\n",
              "    </tr>\n",
              "    <tr>\n",
              "      <th>262</th>\n",
              "      <td>0.85</td>\n",
              "      <td>Accessory27</td>\n",
              "    </tr>\n",
              "    <tr>\n",
              "      <th>686</th>\n",
              "      <td>0.85</td>\n",
              "      <td>Office Impressions Heavy Duty Welded Shelving ...</td>\n",
              "    </tr>\n",
              "    <tr>\n",
              "      <th>742</th>\n",
              "      <td>0.85</td>\n",
              "      <td>Accessory27</td>\n",
              "    </tr>\n",
              "    <tr>\n",
              "      <th>807</th>\n",
              "      <td>0.85</td>\n",
              "      <td>Accessory27</td>\n",
              "    </tr>\n",
              "    <tr>\n",
              "      <th>816</th>\n",
              "      <td>0.85</td>\n",
              "      <td>Accessory27</td>\n",
              "    </tr>\n",
              "    <tr>\n",
              "      <th>881</th>\n",
              "      <td>0.85</td>\n",
              "      <td>Sterling Rubber Bands by Alliance</td>\n",
              "    </tr>\n",
              "    <tr>\n",
              "      <th>963</th>\n",
              "      <td>0.85</td>\n",
              "      <td>Accessory4</td>\n",
              "    </tr>\n",
              "    <tr>\n",
              "      <th>976</th>\n",
              "      <td>0.85</td>\n",
              "      <td>Accessory4</td>\n",
              "    </tr>\n",
              "    <tr>\n",
              "      <th>1567</th>\n",
              "      <td>0.85</td>\n",
              "      <td>Accessory27</td>\n",
              "    </tr>\n",
              "    <tr>\n",
              "      <th>1718</th>\n",
              "      <td>0.85</td>\n",
              "      <td>Accessory4</td>\n",
              "    </tr>\n",
              "    <tr>\n",
              "      <th>1723</th>\n",
              "      <td>0.85</td>\n",
              "      <td>Sterling Rubber Bands by Alliance</td>\n",
              "    </tr>\n",
              "    <tr>\n",
              "      <th>1887</th>\n",
              "      <td>0.85</td>\n",
              "      <td>Office Impressions Heavy Duty Welded Shelving ...</td>\n",
              "    </tr>\n",
              "    <tr>\n",
              "      <th>1918</th>\n",
              "      <td>0.85</td>\n",
              "      <td>Office Impressions Heavy Duty Welded Shelving ...</td>\n",
              "    </tr>\n",
              "    <tr>\n",
              "      <th>2116</th>\n",
              "      <td>0.85</td>\n",
              "      <td>Accessory27</td>\n",
              "    </tr>\n",
              "    <tr>\n",
              "      <th>2138</th>\n",
              "      <td>0.85</td>\n",
              "      <td>Sterling Rubber Bands by Alliance</td>\n",
              "    </tr>\n",
              "    <tr>\n",
              "      <th>3174</th>\n",
              "      <td>0.85</td>\n",
              "      <td>Sterling Rubber Bands by Alliance</td>\n",
              "    </tr>\n",
              "    <tr>\n",
              "      <th>3428</th>\n",
              "      <td>0.85</td>\n",
              "      <td>Belkin OmniView SE Rackmount Kit</td>\n",
              "    </tr>\n",
              "    <tr>\n",
              "      <th>3963</th>\n",
              "      <td>0.85</td>\n",
              "      <td>Office Impressions Heavy Duty Welded Shelving ...</td>\n",
              "    </tr>\n",
              "    <tr>\n",
              "      <th>3994</th>\n",
              "      <td>0.85</td>\n",
              "      <td>Office Impressions Heavy Duty Welded Shelving ...</td>\n",
              "    </tr>\n",
              "    <tr>\n",
              "      <th>4015</th>\n",
              "      <td>0.85</td>\n",
              "      <td>Accessory4</td>\n",
              "    </tr>\n",
              "    <tr>\n",
              "      <th>4168</th>\n",
              "      <td>0.85</td>\n",
              "      <td>Sterling Rubber Bands by Alliance</td>\n",
              "    </tr>\n",
              "    <tr>\n",
              "      <th>4632</th>\n",
              "      <td>0.85</td>\n",
              "      <td>Accessory4</td>\n",
              "    </tr>\n",
              "    <tr>\n",
              "      <th>4756</th>\n",
              "      <td>0.85</td>\n",
              "      <td>Accessory4</td>\n",
              "    </tr>\n",
              "    <tr>\n",
              "      <th>5149</th>\n",
              "      <td>0.85</td>\n",
              "      <td>Accessory4</td>\n",
              "    </tr>\n",
              "    <tr>\n",
              "      <th>5180</th>\n",
              "      <td>0.85</td>\n",
              "      <td>Accessory4</td>\n",
              "    </tr>\n",
              "    <tr>\n",
              "      <th>5672</th>\n",
              "      <td>0.85</td>\n",
              "      <td>Accessory4</td>\n",
              "    </tr>\n",
              "    <tr>\n",
              "      <th>5860</th>\n",
              "      <td>0.85</td>\n",
              "      <td>Office Impressions Heavy Duty Welded Shelving ...</td>\n",
              "    </tr>\n",
              "    <tr>\n",
              "      <th>7112</th>\n",
              "      <td>0.85</td>\n",
              "      <td>Accessory4</td>\n",
              "    </tr>\n",
              "    <tr>\n",
              "      <th>7176</th>\n",
              "      <td>0.85</td>\n",
              "      <td>Office Impressions Heavy Duty Welded Shelving ...</td>\n",
              "    </tr>\n",
              "    <tr>\n",
              "      <th>7202</th>\n",
              "      <td>0.85</td>\n",
              "      <td>Office Impressions Heavy Duty Welded Shelving ...</td>\n",
              "    </tr>\n",
              "    <tr>\n",
              "      <th>7607</th>\n",
              "      <td>0.85</td>\n",
              "      <td>Accessory27</td>\n",
              "    </tr>\n",
              "    <tr>\n",
              "      <th>7869</th>\n",
              "      <td>0.85</td>\n",
              "      <td>Accessory4</td>\n",
              "    </tr>\n",
              "    <tr>\n",
              "      <th>7958</th>\n",
              "      <td>0.85</td>\n",
              "      <td>Office Impressions Heavy Duty Welded Shelving ...</td>\n",
              "    </tr>\n",
              "    <tr>\n",
              "      <th>8077</th>\n",
              "      <td>0.85</td>\n",
              "      <td>Accessory4</td>\n",
              "    </tr>\n",
              "    <tr>\n",
              "      <th>8725</th>\n",
              "      <td>0.85</td>\n",
              "      <td>Accessory4</td>\n",
              "    </tr>\n",
              "    <tr>\n",
              "      <th>8950</th>\n",
              "      <td>0.85</td>\n",
              "      <td>Belkin OmniView SE Rackmount Kit</td>\n",
              "    </tr>\n",
              "    <tr>\n",
              "      <th>9145</th>\n",
              "      <td>0.85</td>\n",
              "      <td>Accessory27</td>\n",
              "    </tr>\n",
              "    <tr>\n",
              "      <th>9377</th>\n",
              "      <td>0.85</td>\n",
              "      <td>Office Impressions Heavy Duty Welded Shelving ...</td>\n",
              "    </tr>\n",
              "  </tbody>\n",
              "</table>\n",
              "</div>\n",
              "      <button class=\"colab-df-convert\" onclick=\"convertToInteractive('df-2de3d83c-3097-4af9-a1c0-06770e22ae7c')\"\n",
              "              title=\"Convert this dataframe to an interactive table.\"\n",
              "              style=\"display:none;\">\n",
              "        \n",
              "  <svg xmlns=\"http://www.w3.org/2000/svg\" height=\"24px\"viewBox=\"0 0 24 24\"\n",
              "       width=\"24px\">\n",
              "    <path d=\"M0 0h24v24H0V0z\" fill=\"none\"/>\n",
              "    <path d=\"M18.56 5.44l.94 2.06.94-2.06 2.06-.94-2.06-.94-.94-2.06-.94 2.06-2.06.94zm-11 1L8.5 8.5l.94-2.06 2.06-.94-2.06-.94L8.5 2.5l-.94 2.06-2.06.94zm10 10l.94 2.06.94-2.06 2.06-.94-2.06-.94-.94-2.06-.94 2.06-2.06.94z\"/><path d=\"M17.41 7.96l-1.37-1.37c-.4-.4-.92-.59-1.43-.59-.52 0-1.04.2-1.43.59L10.3 9.45l-7.72 7.72c-.78.78-.78 2.05 0 2.83L4 21.41c.39.39.9.59 1.41.59.51 0 1.02-.2 1.41-.59l7.78-7.78 2.81-2.81c.8-.78.8-2.07 0-2.86zM5.41 20L4 18.59l7.72-7.72 1.47 1.35L5.41 20z\"/>\n",
              "  </svg>\n",
              "      </button>\n",
              "      \n",
              "  <style>\n",
              "    .colab-df-container {\n",
              "      display:flex;\n",
              "      flex-wrap:wrap;\n",
              "      gap: 12px;\n",
              "    }\n",
              "\n",
              "    .colab-df-convert {\n",
              "      background-color: #E8F0FE;\n",
              "      border: none;\n",
              "      border-radius: 50%;\n",
              "      cursor: pointer;\n",
              "      display: none;\n",
              "      fill: #1967D2;\n",
              "      height: 32px;\n",
              "      padding: 0 0 0 0;\n",
              "      width: 32px;\n",
              "    }\n",
              "\n",
              "    .colab-df-convert:hover {\n",
              "      background-color: #E2EBFA;\n",
              "      box-shadow: 0px 1px 2px rgba(60, 64, 67, 0.3), 0px 1px 3px 1px rgba(60, 64, 67, 0.15);\n",
              "      fill: #174EA6;\n",
              "    }\n",
              "\n",
              "    [theme=dark] .colab-df-convert {\n",
              "      background-color: #3B4455;\n",
              "      fill: #D2E3FC;\n",
              "    }\n",
              "\n",
              "    [theme=dark] .colab-df-convert:hover {\n",
              "      background-color: #434B5C;\n",
              "      box-shadow: 0px 1px 3px 1px rgba(0, 0, 0, 0.15);\n",
              "      filter: drop-shadow(0px 1px 2px rgba(0, 0, 0, 0.3));\n",
              "      fill: #FFFFFF;\n",
              "    }\n",
              "  </style>\n",
              "\n",
              "      <script>\n",
              "        const buttonEl =\n",
              "          document.querySelector('#df-2de3d83c-3097-4af9-a1c0-06770e22ae7c button.colab-df-convert');\n",
              "        buttonEl.style.display =\n",
              "          google.colab.kernel.accessAllowed ? 'block' : 'none';\n",
              "\n",
              "        async function convertToInteractive(key) {\n",
              "          const element = document.querySelector('#df-2de3d83c-3097-4af9-a1c0-06770e22ae7c');\n",
              "          const dataTable =\n",
              "            await google.colab.kernel.invokeFunction('convertToInteractive',\n",
              "                                                     [key], {});\n",
              "          if (!dataTable) return;\n",
              "\n",
              "          const docLinkHtml = 'Like what you see? Visit the ' +\n",
              "            '<a target=\"_blank\" href=https://colab.research.google.com/notebooks/data_table.ipynb>data table notebook</a>'\n",
              "            + ' to learn more about interactive tables.';\n",
              "          element.innerHTML = '';\n",
              "          dataTable['output_type'] = 'display_data';\n",
              "          await google.colab.output.renderOutput(dataTable, element);\n",
              "          const docLink = document.createElement('div');\n",
              "          docLink.innerHTML = docLinkHtml;\n",
              "          element.appendChild(docLink);\n",
              "        }\n",
              "      </script>\n",
              "    </div>\n",
              "  </div>\n",
              "  "
            ]
          },
          "metadata": {},
          "execution_count": 53
        }
      ]
    },
    {
      "cell_type": "code",
      "source": [
        ""
      ],
      "metadata": {
        "id": "oM4N4ZoxjLLo"
      },
      "execution_count": null,
      "outputs": []
    },
    {
      "cell_type": "code",
      "source": [
        ""
      ],
      "metadata": {
        "id": "BZW693IvjMM9"
      },
      "execution_count": null,
      "outputs": []
    }
  ],
  "metadata": {
    "colab": {
      "collapsed_sections": [],
      "name": "Task31-07USA_Superstore.ipynb",
      "provenance": []
    },
    "kernelspec": {
      "display_name": "Python 3",
      "name": "python3"
    },
    "language_info": {
      "name": "python"
    }
  },
  "nbformat": 4,
  "nbformat_minor": 0
}